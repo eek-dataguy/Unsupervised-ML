{
 "cells": [
  {
   "cell_type": "markdown",
   "id": "f0ce0654",
   "metadata": {},
   "source": [
    "# Data Prep Assignments"
   ]
  },
  {
   "cell_type": "markdown",
   "id": "9fc2f076",
   "metadata": {},
   "source": [
    "## Assignment 1: Set the Correct Row Granularity"
   ]
  },
  {
   "cell_type": "code",
   "execution_count": 8,
   "id": "13d2d844",
   "metadata": {},
   "outputs": [
    {
     "data": {
      "text/html": [
       "<div>\n",
       "<style scoped>\n",
       "    .dataframe tbody tr th:only-of-type {\n",
       "        vertical-align: middle;\n",
       "    }\n",
       "\n",
       "    .dataframe tbody tr th {\n",
       "        vertical-align: top;\n",
       "    }\n",
       "\n",
       "    .dataframe thead th {\n",
       "        text-align: right;\n",
       "    }\n",
       "</style>\n",
       "<table border=\"1\" class=\"dataframe\">\n",
       "  <thead>\n",
       "    <tr style=\"text-align: right;\">\n",
       "      <th></th>\n",
       "      <th>name</th>\n",
       "      <th>entertainment</th>\n",
       "      <th>hours_per_week</th>\n",
       "    </tr>\n",
       "  </thead>\n",
       "  <tbody>\n",
       "    <tr>\n",
       "      <th>0</th>\n",
       "      <td>Emily</td>\n",
       "      <td>video_games</td>\n",
       "      <td>5.1</td>\n",
       "    </tr>\n",
       "    <tr>\n",
       "      <th>1</th>\n",
       "      <td>Liam</td>\n",
       "      <td>video_games</td>\n",
       "      <td>4.9</td>\n",
       "    </tr>\n",
       "    <tr>\n",
       "      <th>2</th>\n",
       "      <td>Olivia</td>\n",
       "      <td>video_games</td>\n",
       "      <td>4.7</td>\n",
       "    </tr>\n",
       "    <tr>\n",
       "      <th>3</th>\n",
       "      <td>Noah</td>\n",
       "      <td>video_games</td>\n",
       "      <td>4.6</td>\n",
       "    </tr>\n",
       "    <tr>\n",
       "      <th>4</th>\n",
       "      <td>Ava</td>\n",
       "      <td>video_games</td>\n",
       "      <td>5.0</td>\n",
       "    </tr>\n",
       "  </tbody>\n",
       "</table>\n",
       "</div>"
      ],
      "text/plain": [
       "     name entertainment  hours_per_week\n",
       "0   Emily   video_games             5.1\n",
       "1    Liam   video_games             4.9\n",
       "2  Olivia   video_games             4.7\n",
       "3    Noah   video_games             4.6\n",
       "4     Ava   video_games             5.0"
      ]
     },
     "execution_count": 8,
     "metadata": {},
     "output_type": "execute_result"
    }
   ],
   "source": [
    "# 1. Read the Excel spreadsheet into a Pandas DataFrame\n",
    "import pandas as pd\n",
    "\n",
    "df = pd.read_excel(\"../Data/entertainment.xlsx\")\n",
    "df.head()"
   ]
  },
  {
   "cell_type": "code",
   "execution_count": 9,
   "id": "f647d091",
   "metadata": {},
   "outputs": [
    {
     "name": "stdout",
     "output_type": "stream",
     "text": [
      "<class 'pandas.core.frame.DataFrame'>\n",
      "RangeIndex: 600 entries, 0 to 599\n",
      "Data columns (total 3 columns):\n",
      " #   Column          Non-Null Count  Dtype  \n",
      "---  ------          --------------  -----  \n",
      " 0   name            600 non-null    object \n",
      " 1   entertainment   600 non-null    object \n",
      " 2   hours_per_week  595 non-null    float64\n",
      "dtypes: float64(1), object(2)\n",
      "memory usage: 14.2+ KB\n"
     ]
    }
   ],
   "source": [
    "# 2. Check the number of rows and columns\n",
    "df.info()"
   ]
  },
  {
   "cell_type": "code",
   "execution_count": 11,
   "id": "067b72fa-fe7c-40ce-8fdc-ccc5924a1ddc",
   "metadata": {},
   "outputs": [
    {
     "data": {
      "text/plain": [
       "entertainment\n",
       "video_games    150\n",
       "tv_shows       150\n",
       "movies         150\n",
       "books          150\n",
       "Name: count, dtype: int64"
      ]
     },
     "execution_count": 11,
     "metadata": {},
     "output_type": "execute_result"
    }
   ],
   "source": [
    "# 3. Determine the row granularity needed\n",
    "df[\"entertainment\"].value_counts()"
   ]
  },
  {
   "cell_type": "code",
   "execution_count": 12,
   "id": "bdd9a320-94f5-439c-a247-71cb734a930e",
   "metadata": {},
   "outputs": [
    {
     "data": {
      "text/html": [
       "<div>\n",
       "<style scoped>\n",
       "    .dataframe tbody tr th:only-of-type {\n",
       "        vertical-align: middle;\n",
       "    }\n",
       "\n",
       "    .dataframe tbody tr th {\n",
       "        vertical-align: top;\n",
       "    }\n",
       "\n",
       "    .dataframe thead tr th {\n",
       "        text-align: left;\n",
       "    }\n",
       "</style>\n",
       "<table border=\"1\" class=\"dataframe\">\n",
       "  <thead>\n",
       "    <tr>\n",
       "      <th></th>\n",
       "      <th>name</th>\n",
       "      <th colspan=\"4\" halign=\"left\">hours_per_week</th>\n",
       "    </tr>\n",
       "    <tr>\n",
       "      <th>entertainment</th>\n",
       "      <th></th>\n",
       "      <th>books</th>\n",
       "      <th>movies</th>\n",
       "      <th>tv_shows</th>\n",
       "      <th>video_games</th>\n",
       "    </tr>\n",
       "  </thead>\n",
       "  <tbody>\n",
       "    <tr>\n",
       "      <th>0</th>\n",
       "      <td>Aaliyah</td>\n",
       "      <td>0.5</td>\n",
       "      <td>1.5</td>\n",
       "      <td>4.6</td>\n",
       "      <td>4.9</td>\n",
       "    </tr>\n",
       "    <tr>\n",
       "      <th>1</th>\n",
       "      <td>Abigail</td>\n",
       "      <td>0.0</td>\n",
       "      <td>1.4</td>\n",
       "      <td>4.5</td>\n",
       "      <td>4.8</td>\n",
       "    </tr>\n",
       "    <tr>\n",
       "      <th>2</th>\n",
       "      <td>Addison</td>\n",
       "      <td>0.5</td>\n",
       "      <td>1.6</td>\n",
       "      <td>4.5</td>\n",
       "      <td>5.0</td>\n",
       "    </tr>\n",
       "    <tr>\n",
       "      <th>3</th>\n",
       "      <td>Adeline</td>\n",
       "      <td>3.5</td>\n",
       "      <td>4.4</td>\n",
       "      <td>4.5</td>\n",
       "      <td>6.6</td>\n",
       "    </tr>\n",
       "    <tr>\n",
       "      <th>4</th>\n",
       "      <td>Alana</td>\n",
       "      <td>2.8</td>\n",
       "      <td>3.9</td>\n",
       "      <td>3.8</td>\n",
       "      <td>5.6</td>\n",
       "    </tr>\n",
       "    <tr>\n",
       "      <th>...</th>\n",
       "      <td>...</td>\n",
       "      <td>...</td>\n",
       "      <td>...</td>\n",
       "      <td>...</td>\n",
       "      <td>...</td>\n",
       "    </tr>\n",
       "    <tr>\n",
       "      <th>145</th>\n",
       "      <td>Winifred</td>\n",
       "      <td>5.2</td>\n",
       "      <td>5.4</td>\n",
       "      <td>4.6</td>\n",
       "      <td>6.9</td>\n",
       "    </tr>\n",
       "    <tr>\n",
       "      <th>146</th>\n",
       "      <td>Xanthe</td>\n",
       "      <td>6.0</td>\n",
       "      <td>5.6</td>\n",
       "      <td>4.6</td>\n",
       "      <td>6.7</td>\n",
       "    </tr>\n",
       "    <tr>\n",
       "      <th>147</th>\n",
       "      <td>Zara</td>\n",
       "      <td>5.5</td>\n",
       "      <td>6.7</td>\n",
       "      <td>5.7</td>\n",
       "      <td>7.7</td>\n",
       "    </tr>\n",
       "    <tr>\n",
       "      <th>148</th>\n",
       "      <td>Zoe</td>\n",
       "      <td>0.0</td>\n",
       "      <td>1.5</td>\n",
       "      <td>6.1</td>\n",
       "      <td>5.2</td>\n",
       "    </tr>\n",
       "    <tr>\n",
       "      <th>149</th>\n",
       "      <td>Zoey</td>\n",
       "      <td>1.2</td>\n",
       "      <td>1.7</td>\n",
       "      <td>4.9</td>\n",
       "      <td>5.1</td>\n",
       "    </tr>\n",
       "  </tbody>\n",
       "</table>\n",
       "<p>150 rows × 5 columns</p>\n",
       "</div>"
      ],
      "text/plain": [
       "                   name hours_per_week                            \n",
       "entertainment                    books movies tv_shows video_games\n",
       "0               Aaliyah            0.5    1.5      4.6         4.9\n",
       "1               Abigail            0.0    1.4      4.5         4.8\n",
       "2               Addison            0.5    1.6      4.5         5.0\n",
       "3               Adeline            3.5    4.4      4.5         6.6\n",
       "4                 Alana            2.8    3.9      3.8         5.6\n",
       "..                  ...            ...    ...      ...         ...\n",
       "145            Winifred            5.2    5.4      4.6         6.9\n",
       "146              Xanthe            6.0    5.6      4.6         6.7\n",
       "147                Zara            5.5    6.7      5.7         7.7\n",
       "148                 Zoe            0.0    1.5      6.1         5.2\n",
       "149                Zoey            1.2    1.7      4.9         5.1\n",
       "\n",
       "[150 rows x 5 columns]"
      ]
     },
     "execution_count": 12,
     "metadata": {},
     "output_type": "execute_result"
    }
   ],
   "source": [
    "# 4. Apply the correct DataFrame transformation\n",
    "(df.pivot(index=['name'], columns=['entertainment'], values=['hours_per_week'])\n",
    "   .fillna(0)\n",
    "   .reset_index())"
   ]
  },
  {
   "cell_type": "code",
   "execution_count": 13,
   "id": "ffed6ca3-9014-4634-9928-84ff1797c664",
   "metadata": {},
   "outputs": [],
   "source": [
    "# 5. Save the transformation as a new DataFrame\n",
    "entertains_hour_per_week = (df.pivot(index=['name'], columns=['entertainment'], values=['hours_per_week'])\n",
    "   .fillna(0)\n",
    "   .reset_index())"
   ]
  },
  {
   "cell_type": "code",
   "execution_count": 15,
   "id": "8f1b7d1e",
   "metadata": {},
   "outputs": [
    {
     "name": "stdout",
     "output_type": "stream",
     "text": [
      "<class 'pandas.core.frame.DataFrame'>\n",
      "RangeIndex: 150 entries, 0 to 149\n",
      "Data columns (total 5 columns):\n",
      " #   Column                         Non-Null Count  Dtype  \n",
      "---  ------                         --------------  -----  \n",
      " 0   (name, )                       150 non-null    object \n",
      " 1   (hours_per_week, books)        150 non-null    float64\n",
      " 2   (hours_per_week, movies)       150 non-null    float64\n",
      " 3   (hours_per_week, tv_shows)     150 non-null    float64\n",
      " 4   (hours_per_week, video_games)  150 non-null    float64\n",
      "dtypes: float64(4), object(1)\n",
      "memory usage: 6.0+ KB\n"
     ]
    }
   ],
   "source": [
    "# 6. Check the number of rows and columns\n",
    "entertains_hour_per_week.info()"
   ]
  },
  {
   "cell_type": "markdown",
   "id": "429cfa0d",
   "metadata": {},
   "source": [
    "## Assignment 2: Prepare Columns for Modeling"
   ]
  },
  {
   "cell_type": "code",
   "execution_count": null,
   "id": "bcd904c9",
   "metadata": {},
   "outputs": [],
   "source": [
    "# 1. Find the missing values\n"
   ]
  },
  {
   "cell_type": "code",
   "execution_count": null,
   "id": "6788e4f3",
   "metadata": {},
   "outputs": [],
   "source": [
    "# 2. Fill in the missing values with zeros\n"
   ]
  },
  {
   "cell_type": "code",
   "execution_count": null,
   "id": "238d9f9e",
   "metadata": {},
   "outputs": [],
   "source": [
    "# 3. Create a new column called video_game_lover for people who played more than 7 hours of video games\n"
   ]
  },
  {
   "cell_type": "markdown",
   "id": "2c43382e",
   "metadata": {},
   "source": [
    "## Assignment 3: Feature Engineering"
   ]
  },
  {
   "cell_type": "code",
   "execution_count": null,
   "id": "c5627183",
   "metadata": {},
   "outputs": [],
   "source": [
    "# 1. Create a column called total_entertainment that sums up all the types of entertainment for each student\n"
   ]
  },
  {
   "cell_type": "code",
   "execution_count": null,
   "id": "dbe1d2b9",
   "metadata": {},
   "outputs": [],
   "source": [
    "# 2. Create a column called pct_screen that calculates the percent of entertainment that’s on screens (everything except for books) for each student\n"
   ]
  },
  {
   "cell_type": "markdown",
   "id": "6ee2888b",
   "metadata": {},
   "source": [
    "## Assignment 4: Feature Selection"
   ]
  },
  {
   "cell_type": "code",
   "execution_count": null,
   "id": "f78cff97",
   "metadata": {},
   "outputs": [],
   "source": [
    "# 1. Save the student name column of the DataFrame as its own Series for reference\n"
   ]
  },
  {
   "cell_type": "code",
   "execution_count": null,
   "id": "15016573",
   "metadata": {},
   "outputs": [],
   "source": [
    "# 2. Save the three new columns of the DataFrame as its own DataFrame for modeling – video_game_lover, total_entertainment and pct_screen\n"
   ]
  },
  {
   "cell_type": "markdown",
   "id": "8618af0a",
   "metadata": {},
   "source": [
    "## Assignment 5: Feature Scaling"
   ]
  },
  {
   "cell_type": "code",
   "execution_count": null,
   "id": "6e5e09fc",
   "metadata": {},
   "outputs": [],
   "source": [
    "# 1. Scale the features in the modeling DataFrame so they all have a mean of 0 and a standard deviation of 1\n"
   ]
  },
  {
   "cell_type": "code",
   "execution_count": null,
   "id": "ed245786",
   "metadata": {},
   "outputs": [],
   "source": [
    "# 2. Save the output as a final DataFrame that’s ready for modeling\n"
   ]
  },
  {
   "cell_type": "code",
   "execution_count": null,
   "id": "b719cecd",
   "metadata": {},
   "outputs": [],
   "source": [
    "# 3. Optional: pickle the dataframe for modeling\n"
   ]
  },
  {
   "cell_type": "code",
   "execution_count": null,
   "id": "701c2c1c-155a-422b-b2d4-0e9f4923b7ee",
   "metadata": {},
   "outputs": [],
   "source": []
  }
 ],
 "metadata": {
  "kernelspec": {
   "display_name": "Python 3",
   "language": "python",
   "name": "python3"
  },
  "language_info": {
   "codemirror_mode": {
    "name": "ipython",
    "version": 3
   },
   "file_extension": ".py",
   "mimetype": "text/x-python",
   "name": "python",
   "nbconvert_exporter": "python",
   "pygments_lexer": "ipython3",
   "version": "3.12.1"
  }
 },
 "nbformat": 4,
 "nbformat_minor": 5
}
